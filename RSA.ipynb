{
  "nbformat": 4,
  "nbformat_minor": 0,
  "metadata": {
    "colab": {
      "provenance": [],
      "include_colab_link": true
    },
    "kernelspec": {
      "name": "python3",
      "display_name": "Python 3"
    },
    "language_info": {
      "name": "python"
    }
  },
  "cells": [
    {
      "cell_type": "markdown",
      "metadata": {
        "id": "view-in-github",
        "colab_type": "text"
      },
      "source": [
        "<a href=\"https://colab.research.google.com/github/Neocqd/RSA_notebook/blob/main/RSA.ipynb\" target=\"_parent\"><img src=\"https://colab.research.google.com/assets/colab-badge.svg\" alt=\"Open In Colab\"/></a>"
      ]
    },
    {
      "cell_type": "markdown",
      "metadata": {
        "id": "_rJCvn7jVgn_"
      },
      "source": [
        "### Importation des bibliothèques nécessaires\n",
        "Cette cellule importe les modules nécessaires :\n",
        "- `random` pour la génération aléatoire.\n",
        "- `sympy.randprime` pour la génération de nombres premiers.\n"
      ]
    },
    {
      "cell_type": "code",
      "execution_count": 1,
      "metadata": {
        "id": "9Q3bpYafpeDo"
      },
      "outputs": [],
      "source": [
        "import random\n",
        "from sympy import randprime"
      ]
    },
    {
      "cell_type": "markdown",
      "metadata": {
        "id": "wWqsOAmnVgoC"
      },
      "source": [
        "### Fonction de calcul du PGCD\n",
        "Cette cellule définit une fonction utilisant l'algorithme d'Euclide pour calculer le plus grand commun diviseur (PGCD) de deux nombres.\n"
      ]
    },
    {
      "cell_type": "code",
      "source": [
        "# 1. Fonction pour calculer le PGCD (Algorithme d'Euclide)\n",
        "def gcd(a, b):\n",
        "    while b != 0:\n",
        "        a, b = b, a % b\n",
        "    return a"
      ],
      "metadata": {
        "id": "DIK5Mmtot9IA"
      },
      "execution_count": 2,
      "outputs": []
    },
    {
      "cell_type": "markdown",
      "metadata": {
        "id": "znOCOZ-bVgoD"
      },
      "source": [
        "### Fonction pour l'inverse modulaire\n",
        "Cette cellule définit une fonction utilisant l'algorithme d'Euclide étendu pour calculer l'inverse modulaire d'un nombre.\n"
      ]
    },
    {
      "cell_type": "code",
      "source": [
        "# 2. Fonction pour calculer l'inverse modulaire (Algorithme d'Euclide Étendu)\n",
        "def mod_inverse(e, phi):\n",
        "    original_phi = phi\n",
        "    x, y = 0, 1\n",
        "    last_x, last_y = 1, 0\n",
        "    while phi != 0:\n",
        "        quotient = e // phi\n",
        "        e, phi = phi, e % phi\n",
        "        last_x, x = x, last_x - quotient * x\n",
        "        last_y, y = y, last_y - quotient * y\n",
        "    if e != 1:\n",
        "        raise Exception('L\\'inverse modulaire n\\'existe pas.')\n",
        "    return last_x % original_phi"
      ],
      "metadata": {
        "id": "ZsCMIOhHt_50"
      },
      "execution_count": 3,
      "outputs": []
    },
    {
      "cell_type": "markdown",
      "metadata": {
        "id": "pL3O1Qz2VgoD"
      },
      "source": [
        "### Génération de nombres premiers\n",
        "Cette cellule génère deux nombres premiers distincts dans une plage définie.\n"
      ]
    },
    {
      "cell_type": "code",
      "source": [
        "# 3. Génération de deux nombres premiers p et q (exemple avec des petits nombres pour simplifier)\n",
        "def generate_primes(min_val=100000, max_val=1000000):\n",
        "    p = randprime(min_val, max_val)\n",
        "    q = randprime(min_val, max_val)\n",
        "    while q == p:\n",
        "        q = randprime(min_val, max_val)\n",
        "    return p, q"
      ],
      "metadata": {
        "id": "WlvkoLC2uDXq"
      },
      "execution_count": 4,
      "outputs": []
    },
    {
      "cell_type": "markdown",
      "metadata": {
        "id": "WR50qLKrVgoF"
      },
      "source": [
        "### Génération des clés RSA\n",
        "Cette cellule génère les clés publiques et privées RSA en utilisant les nombres premiers générés.\n"
      ]
    },
    {
      "cell_type": "code",
      "source": [
        "# 4. Génération des clés publique et privée\n",
        "def generate_keys():\n",
        "    p, q = generate_primes()\n",
        "    N = p * q  # Calcul de N = p * q\n",
        "    phi = (p - 1) * (q - 1)  # Calcul de φ(N) = (p-1)*(q-1)\n",
        "\n",
        "    # Choix de l'exposant e tel que 1 < e < φ(N) et gcd(e, φ(N)) = 1\n",
        "    e = 65537  # Exposant communément utilisé\n",
        "    if gcd(e, phi) != 1:\n",
        "        # Si e n'est pas premier avec phi, choisir un autre e\n",
        "        e = random.randrange(2, phi)\n",
        "        while gcd(e, phi) != 1:\n",
        "            e = random.randrange(2, phi)\n",
        "\n",
        "    d = mod_inverse(e, phi)  # Calcul de l'inverse modulaire d de e\n",
        "\n",
        "    # Clé publique (N, e) et clé privée (N, d)\n",
        "    return (N, e), (N, d), p, q\n"
      ],
      "metadata": {
        "id": "Sbjyuq8zuGtI"
      },
      "execution_count": 5,
      "outputs": []
    },
    {
      "cell_type": "markdown",
      "source": [
        "### Fonction de chiffrement\n",
        "Cette cellule définit une fonction pour chiffrer un message texte en utilisant la clé publique RSA.\n"
      ],
      "metadata": {
        "id": "t2ScVy-WW7Xd"
      }
    },
    {
      "cell_type": "code",
      "source": [
        "# 5. Fonction de chiffrement\n",
        "def encrypt(public_key, plaintext):\n",
        "    N, e = public_key\n",
        "    # Convertir chaque caractère en entier, puis chiffrer avec C = M^e mod N\n",
        "    ciphertext = [pow(ord(char), e, N) for char in plaintext]\n",
        "    return ciphertext"
      ],
      "metadata": {
        "id": "FX8e8u8SuI2a"
      },
      "execution_count": 6,
      "outputs": []
    },
    {
      "cell_type": "markdown",
      "source": [
        "### Fonction de déchiffrement\n",
        "Cette cellule définit une fonction pour déchiffrer un message chiffré en utilisant la clé privée RSA.\n"
      ],
      "metadata": {
        "id": "mXiDUOPMW8ZE"
      }
    },
    {
      "cell_type": "code",
      "source": [
        "# 6. Fonction de déchiffrement\n",
        "def decrypt(private_key, ciphertext):\n",
        "    N, d = private_key\n",
        "    # Déchiffrer chaque entier avec M = C^d mod N, puis convertir en caractère\n",
        "    plaintext = ''.join([chr(pow(char, d, N)) for char in ciphertext])\n",
        "    return plaintext"
      ],
      "metadata": {
        "id": "Rjcf8recuKXa"
      },
      "execution_count": 7,
      "outputs": []
    },
    {
      "cell_type": "markdown",
      "source": [
        "### Exécution complète : Génération des clés, chiffrement et déchiffrement\n",
        "Cette cellule exécute tout le processus RSA :\n",
        "- Génération des clés.\n",
        "- Chiffrement d'un message exemple.\n",
        "- Déchiffrement pour vérifier le fonctionnement.\n",
        "- Mesure du temps total d'exécution."
      ],
      "metadata": {
        "id": "o671zvJgW9U_"
      }
    },
    {
      "cell_type": "code",
      "source": [
        "import time\n",
        "\n",
        "# Démarrage du chronomètre\n",
        "start_time = time.time()\n",
        "\n",
        "public_key, private_key, p, q = generate_keys()\n",
        "print(\"=== Génération des Clés RSA ===\")\n",
        "print(f\"Nombre premier p: {p}\")\n",
        "print(f\"Nombre premier q: {q}\")\n",
        "print(f\"N = p * q = {public_key[0]}\")\n",
        "print(f\"phi(N) = (p-1)*(q-1) = {(p-1)*(q-1)}\")\n",
        "print(f\"Clé publique (N, e): {public_key}\")\n",
        "print(f\"Clé privée (N, d): {private_key}\\n\")\n",
        "\n",
        "# Message à chiffrer\n",
        "message = \"Hey, this is a secret message\"\n",
        "print(f\"Message original: {message}\")\n",
        "\n",
        "# Chiffrement\n",
        "ciphertext = encrypt(public_key, message)\n",
        "print(f\"Message chiffré: {ciphertext}\")\n",
        "\n",
        "# Déchiffrement\n",
        "decrypted_message = decrypt(private_key, ciphertext)\n",
        "print(f\"Message déchiffré: {decrypted_message}\")\n",
        "\n",
        "# Fin du chronomètre\n",
        "end_time = time.time()\n",
        "\n",
        "# Affichage du temps d'exécution\n",
        "print(f\"Temps d'exécution total : {end_time - start_time:.4f} secondes\")\n"
      ],
      "metadata": {
        "id": "IylXK94QuMCq",
        "outputId": "64483b2e-ddab-478a-937d-841668ccb19b",
        "colab": {
          "base_uri": "https://localhost:8080/"
        }
      },
      "execution_count": 8,
      "outputs": [
        {
          "output_type": "stream",
          "name": "stdout",
          "text": [
            "=== Génération des Clés RSA ===\n",
            "Nombre premier p: 189223\n",
            "Nombre premier q: 560597\n",
            "N = p * q = 106077846131\n",
            "phi(N) = (p-1)*(q-1) = 106077096312\n",
            "Clé publique (N, e): (106077846131, 65537)\n",
            "Clé privée (N, d): (106077846131, 7602485945)\n",
            "\n",
            "Message original: Hey, this is a secret message\n",
            "Message chiffré: [46472217319, 64416308712, 41307283784, 90594817652, 99289653704, 55856833076, 21418216172, 49167658499, 48474757910, 99289653704, 49167658499, 48474757910, 99289653704, 36608168895, 99289653704, 48474757910, 64416308712, 105325764086, 38485575692, 64416308712, 55856833076, 99289653704, 90465703483, 64416308712, 48474757910, 48474757910, 36608168895, 65970120516, 64416308712]\n",
            "Message déchiffré: Hey, this is a secret message\n",
            "Temps d'exécution total : 0.0169 secondes\n"
          ]
        }
      ]
    },
    {
      "cell_type": "code",
      "source": [],
      "metadata": {
        "id": "tlXLOVJ0uOuF"
      },
      "execution_count": null,
      "outputs": []
    }
  ]
}